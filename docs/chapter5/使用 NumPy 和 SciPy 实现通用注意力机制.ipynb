{
 "cells": [
  {
   "cell_type": "markdown",
   "id": "9fc8f1b8",
   "metadata": {},
   "source": [
    "# 使用 NumPy 和 SciPy 实现通用注意力机制"
   ]
  },
  {
   "cell_type": "markdown",
   "id": "665d18a3",
   "metadata": {},
   "source": [
    "# 1.定义词向量"
   ]
  },
  {
   "cell_type": "code",
   "execution_count": 1,
   "id": "b55239d8",
   "metadata": {},
   "outputs": [],
   "source": [
    "import numpy as np\n",
    "from scipy.special import softmax\n",
    "\n",
    "# 首先，我们定义四个单词的词向量，每个向量维度为3。\n",
    "word_1 = np.array([1, 0, 0])\n",
    "word_2 = np.array([0, 1, 0])\n",
    "word_3 = np.array([1, 1, 0])\n",
    "word_4 = np.array([0, 0, 1])\n",
    "words = np.array([word_1, word_2, word_3, word_4])"
   ]
  },
  {
   "cell_type": "markdown",
   "id": "fb455d49",
   "metadata": {},
   "source": [
    "这些词向量可以表示为矩阵 $\\text{words}\\in\\mathbb{R}^{4\\times3}$，其中每一行代表一个单词的嵌入。\n",
    "\n",
    "word_1, word_2, word_3, word_4：每个都是维度为3的词向量，代表一个单词在嵌入空间中的表示。\n",
    "\n",
    "words：将这些词向量堆叠成一个矩阵，其中每行代表一个单词的嵌入。"
   ]
  },
  {
   "cell_type": "markdown",
   "id": "bd78841d",
   "metadata": {},
   "source": [
    "# 2.生成权重矩阵"
   ]
  },
  {
   "cell_type": "markdown",
   "id": "8ee2afc6",
   "metadata": {},
   "source": [
    "接下来，我们生成三个权重矩阵 $W_Q$, $W_K$, $W_V$"
   ]
  },
  {
   "cell_type": "code",
   "execution_count": 2,
   "id": "bc6cf6e7",
   "metadata": {},
   "outputs": [],
   "source": [
    "# 生成权重矩阵\n",
    "np.random.seed(42) # 设置随机数种子，确保每次运行代码时生成的权重矩阵相同。\n",
    "W_Q = np.random.randint(3, size=(3, 3))\n",
    "W_K = np.random.randint(3, size=(3, 3))\n",
    "W_V = np.random.randint(3, size=(3, 3))"
   ]
  },
  {
   "cell_type": "markdown",
   "id": "a9e69104",
   "metadata": {},
   "source": [
    "这些权重矩阵用于将词向量转换为查询（Query）、键（Key）和值（Value）。"
   ]
  },
  {
   "cell_type": "markdown",
   "id": "44bcdc2c",
   "metadata": {},
   "source": [
    "# 3.计算查询、键和值"
   ]
  },
  {
   "cell_type": "markdown",
   "id": "b133e118",
   "metadata": {},
   "source": [
    "我们通过矩阵乘法计算查询、键和值"
   ]
  },
  {
   "cell_type": "code",
   "execution_count": 3,
   "id": "718320a0",
   "metadata": {},
   "outputs": [],
   "source": [
    "# 生成查询、键和值\n",
    "Q = words @ W_Q\n",
    "K = words @ W_K\n",
    "V = words @ W_V"
   ]
  },
  {
   "cell_type": "markdown",
   "id": "d2591ae5",
   "metadata": {},
   "source": [
    "数学上，这可以表示为：\n",
    "\n",
    "$Q=words·W_Q\\in\\mathbb{R}^{4\\times3}$\n",
    "\n",
    "$K=words·W_K\\in\\mathbb{R}^{4\\times3}$\n",
    "\n",
    "$V=words·W_V\\in\\mathbb{R}^{4\\times3}$"
   ]
  },
  {
   "cell_type": "code",
   "execution_count": 1,
   "id": "c8bc3a32",
   "metadata": {},
   "outputs": [
    {
     "name": "stdout",
     "output_type": "stream",
     "text": [
      "结果矩阵:\n",
      "[[19 22]\n",
      " [43 50]]\n",
      "错误: matmul: Input operand 1 has a mismatch in its core dimension 0, with gufunc signature (n?,k),(k,m?)->(n?,m?) (size 2 is different from 3)\n"
     ]
    },
    {
     "data": {
      "text/plain": [
       "'\\n错误: matmul: Input operand 1 has a mismatch in its core dimension 0, with gufunc signature (n?,k),(k,m?)->(n?,m?) (size 2 is different from 3)\\n'"
      ]
     },
     "execution_count": 1,
     "metadata": {},
     "output_type": "execute_result"
    }
   ],
   "source": [
    "'''\n",
    "@符号在数学和编程中通常用于表示矩阵乘法，\n",
    "它要求参与运算的两个矩阵在维度上满足特定的匹配条件。\n",
    "在进行矩阵乘法时，第一个矩阵的列数必须与第二个矩阵的行数相匹配。\n",
    "当前后不是两个相同形状的方阵的时候,@前后不能交换\n",
    "'''\n",
    "import numpy as np\n",
    "# 创建两个矩阵\n",
    "A = np.array([[1, 2], [3, 4]])\n",
    "B = np.array([[5, 6], [7, 8]])\n",
    "# 进行矩阵乘法\n",
    "result = A @ B  # 使用@运算符进行矩阵乘法\n",
    "print(\"结果矩阵:\")\n",
    "print(result)\n",
    "'''\n",
    "结果矩阵:\n",
    "[[19 22]\n",
    " [43 50]]\n",
    "'''\n",
    "import numpy as np\n",
    "# 创建两个维度不匹配的矩阵\n",
    "A = np.array([[1, 2, 3], [4, 5, 6]])\n",
    "B = np.array([[7, 8], [9, 10]])\n",
    "try:\n",
    "    # 尝试进行矩阵乘法\n",
    "    result = A @ B  # 这将引发错误\n",
    "    print(\"结果矩阵:\")\n",
    "    print(result)\n",
    "except ValueError as e:\n",
    "    print(\"错误:\", e)\n",
    "'''\n",
    "错误: matmul: Input operand 1 has a mismatch in its core dimension 0, with gufunc signature (n?,k),(k,m?)->(n?,m?) (size 2 is different from 3)\n",
    "'''"
   ]
  },
  {
   "cell_type": "markdown",
   "id": "d5aeb052",
   "metadata": {},
   "source": [
    "# 4.计算得分"
   ]
  },
  {
   "cell_type": "markdown",
   "id": "a23e1ab2",
   "metadata": {},
   "source": [
    "得分矩阵通过查询和键的转置相乘得到。"
   ]
  },
  {
   "cell_type": "code",
   "execution_count": 4,
   "id": "454f9329",
   "metadata": {},
   "outputs": [],
   "source": [
    "# 针对所有key向量对query向量进行评分\n",
    "scores = Q @ K.T"
   ]
  },
  {
   "cell_type": "markdown",
   "id": "45ed6b40",
   "metadata": {},
   "source": [
    "数学上，这可以表示为： $\\mathrm{scores}=Q\\cdot K^T\\in\\mathbb{R}^{4\\times4}$\n",
    "\n",
    "其中 $scores_{ij}$ 表示第 i 个查询向量 $Q_i$ 与第 j 个键向量 $K_j$ 的相似度，计算方式为点积：\n",
    "\n",
    "$\\mathrm{scores}_{ij}=Q_i\\cdot K_j=\\sum_{k=1}^3Q_{ik}K_{jk}$"
   ]
  },
  {
   "cell_type": "markdown",
   "id": "639efd88",
   "metadata": {},
   "source": [
    "# 5.计算权重"
   ]
  },
  {
   "cell_type": "markdown",
   "id": "e52519f1",
   "metadata": {},
   "source": [
    "使用softmax函数将得分转换为概率分布。"
   ]
  },
  {
   "cell_type": "code",
   "execution_count": 5,
   "id": "582fb5a2",
   "metadata": {},
   "outputs": [],
   "source": [
    "# 通过softmax操作计算权重\n",
    "weights = softmax(scores / np.sqrt(K.shape[1]), axis=1)"
   ]
  },
  {
   "cell_type": "markdown",
   "id": "4dc94786",
   "metadata": {},
   "source": [
    "数学上，softmax函数定义为：\n",
    "$\\mathrm{softmax}(x)_i=\\frac{e^{x_i}}{\\sum_je^{x_j}}$\n",
    "\n",
    "在这里，我们首先对得分进行缩放，以保持数值稳定性：\n",
    "$\\text{scaled scores}=\\frac{\\mathrm{scores}}{\\sqrt{K.shape[1]}}$, \n",
    "这里的${\\sqrt{K.shape[1]}}$是键向量的维度，用于缩放注意力得分。\n",
    "\n",
    "然后应用softmax函数：\n",
    "$\\mathrm{weights}_{ij}=\\frac{e^{{\\mathrm{scaled_scores}_{ij}}}}{\\sum_{k=1}^{4}e^{{\\mathrm{scaled_scores}_{ik}}}}$"
   ]
  },
  {
   "cell_type": "markdown",
   "id": "f7e7ea80",
   "metadata": {},
   "source": [
    "# 6.计算注意力输出"
   ]
  },
  {
   "cell_type": "markdown",
   "id": "dc2a30bd",
   "metadata": {},
   "source": [
    "最后，我们通过加权和的方式计算注意力输出。"
   ]
  },
  {
   "cell_type": "code",
   "execution_count": 6,
   "id": "19bb5e70",
   "metadata": {},
   "outputs": [
    {
     "name": "stdout",
     "output_type": "stream",
     "text": [
      "[[0.98522025 1.74174051 0.75652026]\n",
      " [0.90965265 1.40965265 0.5       ]\n",
      " [0.99851226 1.75849334 0.75998108]\n",
      " [0.99560386 1.90407309 0.90846923]]\n"
     ]
    }
   ],
   "source": [
    "# 通过value向量的加权和来计算注意力\n",
    "attention = weights @ V\n",
    "\n",
    "print(attention)"
   ]
  },
  {
   "cell_type": "markdown",
   "id": "b69afb17",
   "metadata": {},
   "source": [
    "数学上，这可以表示为：\n",
    "$\\text{attention}=\\mathrm{weights}\\cdot V\\in\\mathbb{R}^{4\\times3}$\n",
    "\n",
    "其中，每个元素 $attention_i$ 是所有值向量的加权和：\n",
    "$\\text{attention}_i=\\sum_{j=1}^4\\mathrm{weights}_{ij}V_j$\n",
    "\n",
    "这样，我们得到了每个输入位置的注意力输出，它综合了输入序列中所有单词的信息，其中每个单词的贡献程度由注意力权重决定。\n",
    "\n",
    "这个数学推理过程展示了注意力机制如何通过动态地计算权重来聚焦于输入序列中最相关的部分，从而生成更准确的输出。"
   ]
  },
  {
   "cell_type": "markdown",
   "id": "5abca0bb",
   "metadata": {},
   "source": [
    "总结，这个过程涉及的主要步骤是：\n",
    "\n",
    "1. 将输入词向量与权重矩阵相乘，得到查询、键和值。\n",
    "2. 计算查询与键的点积，得到得分。\n",
    "3. 使用softmax函数将得分转换为概率分布，得到注意力权重。\n",
    "4. 将注意力权重与值矩阵相乘，得到最终的注意力输出。\n",
    "\n",
    "通过这种方式，注意力机制允许模型动态地聚焦于输入序列中最相关的部分，从而生成更准确的输出。\n"
   ]
  }
 ],
 "metadata": {
  "kernelspec": {
   "display_name": "pytorch",
   "language": "python",
   "name": "python3"
  },
  "language_info": {
   "codemirror_mode": {
    "name": "ipython",
    "version": 3
   },
   "file_extension": ".py",
   "mimetype": "text/x-python",
   "name": "python",
   "nbconvert_exporter": "python",
   "pygments_lexer": "ipython3",
   "version": "3.9.19"
  }
 },
 "nbformat": 4,
 "nbformat_minor": 5
}
