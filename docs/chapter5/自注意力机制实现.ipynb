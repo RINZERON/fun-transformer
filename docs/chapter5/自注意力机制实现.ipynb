{
 "cells": [
  {
   "cell_type": "markdown",
   "id": "7a9a8ebc",
   "metadata": {},
   "source": [
    "# 自注意力机制"
   ]
  },
  {
   "cell_type": "code",
   "execution_count": 8,
   "id": "e7ad6685",
   "metadata": {},
   "outputs": [
    {
     "name": "stdout",
     "output_type": "stream",
     "text": [
      "自注意力机制后的输出:\n",
      "tensor([[ 0.5249, -0.8459, -0.2937],\n",
      "        [ 0.5191, -0.8377, -0.2852],\n",
      "        [ 0.5132, -0.8296, -0.2766],\n",
      "        [ 0.5209, -0.8400, -0.2894]])\n"
     ]
    }
   ],
   "source": [
    "# 导入库\n",
    "import torch\n",
    "import torch.nn.functional as F\n",
    "\n",
    "# 示例输入序列\n",
    "input_sequence = torch.tensor([[0.1, 0.2, 0.3], [0.4, 0.5, 0.6], [0.7, 0.8, 0.9],[0.5, 0.2, 0.4]])\n",
    "\n",
    "# 生成 Key、Query 和 Value 矩阵的随机权重\n",
    "random_weights_key = torch.randn(input_sequence.size(-1), input_sequence.size(-1))\n",
    "random_weights_query = torch.randn(input_sequence.size(-1), input_sequence.size(-1))\n",
    "random_weights_value = torch.randn(input_sequence.size(-1), input_sequence.size(-1))\n",
    "\n",
    "# 计算 Key、Query 和 Value 矩阵\n",
    "key = torch.matmul(input_sequence, random_weights_key)\n",
    "query = torch.matmul(input_sequence, random_weights_query)\n",
    "value = torch.matmul(input_sequence, random_weights_value)\n",
    "\n",
    "# 计算注意力分数\n",
    "attention_scores = torch.matmul(query, key.T) / torch.sqrt(torch.tensor(query.size(-1), dtype=torch.float32))\n",
    "\n",
    "# 使用 softmax 函数获得注意力权重\n",
    "attention_weights = F.softmax(attention_scores, dim=-1)\n",
    "\n",
    "# 计算 Value 向量的加权和\n",
    "output = torch.matmul(attention_weights, value)\n",
    "\n",
    "print(\"自注意力机制后的输出:\")\n",
    "print(output)"
   ]
  },
  {
   "cell_type": "code",
   "execution_count": null,
   "id": "9ad1228e",
   "metadata": {},
   "outputs": [],
   "source": []
  }
 ],
 "metadata": {
  "kernelspec": {
   "display_name": "fun_transformer",
   "language": "python",
   "name": "python3"
  },
  "language_info": {
   "codemirror_mode": {
    "name": "ipython",
    "version": 3
   },
   "file_extension": ".py",
   "mimetype": "text/x-python",
   "name": "python",
   "nbconvert_exporter": "python",
   "pygments_lexer": "ipython3",
   "version": "3.9.21"
  }
 },
 "nbformat": 4,
 "nbformat_minor": 5
}
